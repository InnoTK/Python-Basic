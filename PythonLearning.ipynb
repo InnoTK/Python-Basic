{
 "cells": [
  {
   "cell_type": "code",
   "execution_count": null,
   "metadata": {
    "id": "iPs0ve_GUPFP"
   },
   "outputs": [],
   "source": [
    "!python --version"
   ]
  },
  {
   "cell_type": "code",
   "execution_count": null,
   "metadata": {
    "id": "h0-TWkguV1VZ"
   },
   "outputs": [],
   "source": [
    "!pip list"
   ]
  },
  {
   "cell_type": "code",
   "execution_count": null,
   "metadata": {
    "colab": {
     "base_uri": "https://localhost:8080/"
    },
    "executionInfo": {
     "elapsed": 273,
     "status": "ok",
     "timestamp": 1704336492898,
     "user": {
      "displayName": "Inno Chiu",
      "userId": "03210232940805730089"
     },
     "user_tz": -480
    },
    "id": "9wu7MhNMXkYR",
    "outputId": "6ee22267-36f6-4a26-a3c8-6886859649d8"
   },
   "outputs": [],
   "source": [
    "print(\"My　first Colab Code\")"
   ]
  },
  {
   "cell_type": "markdown",
   "metadata": {
    "id": "BZYubNGqdtRy",
    "jp-MarkdownHeadingCollapsed": true
   },
   "source": [
    "### 會產生學號的程式"
   ]
  },
  {
   "cell_type": "code",
   "execution_count": null,
   "metadata": {
    "colab": {
     "base_uri": "https://localhost:8080/"
    },
    "executionInfo": {
     "elapsed": 288,
     "status": "ok",
     "timestamp": 1704338160906,
     "user": {
      "displayName": "Inno Chiu",
      "userId": "03210232940805730089"
     },
     "user_tz": -480
    },
    "id": "gz_AzxwFdshu",
    "outputId": "014e0020-a072-419d-bc31-c255d4fce309"
   },
   "outputs": [],
   "source": [
    "姓名 = ['林冠宇','方家綺','楊詠寶','鄧廷琬','林依臻',\n",
    "      '盧法豐','李邦軒','李思禾','張沛然','朱宇雄',\n",
    "      '鄭雅雯','張宏偉','張莉雯','林信明']\n",
    "學號 = []\n",
    "for n in range(1,15):\n",
    "    學號.append('{:03}'.format(n))\n",
    "print(學號)"
   ]
  },
  {
   "cell_type": "markdown",
   "metadata": {
    "id": "6C0CBcSAeKZr",
    "jp-MarkdownHeadingCollapsed": true
   },
   "source": [
    "### 電影票價錢計算"
   ]
  },
  {
   "cell_type": "code",
   "execution_count": null,
   "metadata": {
    "colab": {
     "base_uri": "https://localhost:8080/"
    },
    "executionInfo": {
     "elapsed": 6892,
     "status": "ok",
     "timestamp": 1704338207571,
     "user": {
      "displayName": "Inno Chiu",
      "userId": "03210232940805730089"
     },
     "user_tz": -480
    },
    "id": "G30VCU96ePi0",
    "outputId": "a2de3389-e668-4d13-8d1d-4241814eb2b2"
   },
   "outputs": [],
   "source": [
    "age = int(input(\"請輸入年齡: \"))    #age = eval( input(\"請輸入年齡: \"))\n",
    "student = input(\"是否為學生？(Y/N)\")\n",
    "\n",
    "money = 0\n",
    "\n",
    "if  age>=5 and student==\"Y\":\n",
    "    money = 100\n",
    "elif  age>=5 and student==\"N\":  #stduent!=\"Y\"\n",
    "    if  5<=age<=18 :\n",
    "        money = 120\n",
    "    else :\n",
    "        money = 150\n",
    "\n",
    "print(\"你需要支付的電影門票價格為\", str(money), \"元。\")\n"
   ]
  },
  {
   "cell_type": "markdown",
   "metadata": {
    "id": "-vL9CKthlFji",
    "jp-MarkdownHeadingCollapsed": true
   },
   "source": [
    "## OS 檔案管理\n",
    "***"
   ]
  },
  {
   "cell_type": "code",
   "execution_count": null,
   "metadata": {
    "colab": {
     "base_uri": "https://localhost:8080/"
    },
    "executionInfo": {
     "elapsed": 734,
     "status": "ok",
     "timestamp": 1704340211010,
     "user": {
      "displayName": "Inno Chiu",
      "userId": "03210232940805730089"
     },
     "user_tz": -480
    },
    "id": "CewHhjPIlMxS",
    "outputId": "63f7673d-1006-4ca2-fb0c-7f8ec99a3ff8"
   },
   "outputs": [],
   "source": [
    "import os\n",
    "os.chdir('/content/drive/MyDrive/Colab Notebooks')\n",
    "\n",
    "f = open('test.txt','r')\n",
    "print(f.read())\n",
    "f.close()"
   ]
  },
  {
   "cell_type": "markdown",
   "metadata": {
    "id": "gv-9OdhtoQI8"
   },
   "source": [
    "mkdir(folder)\n",
    "os.mkdir(folder)可以在指定的目錄下，建立一個新的資料夾。"
   ]
  },
  {
   "cell_type": "code",
   "execution_count": null,
   "metadata": {
    "id": "bMeKfvVFnva_"
   },
   "outputs": [],
   "source": [
    "import os\n",
    "os.chdir('/content/drive/MyDrive/Colab Notebooks')\n",
    "os.mkdir('demo')\n",
    "os.mkdir('demo/hello')"
   ]
  },
  {
   "cell_type": "markdown",
   "metadata": {
    "id": "E8Refq8p287o"
   },
   "source": [
    "使用os.path 取得檔案的各種屬性"
   ]
  },
  {
   "cell_type": "code",
   "execution_count": null,
   "metadata": {
    "colab": {
     "base_uri": "https://localhost:8080/"
    },
    "executionInfo": {
     "elapsed": 279,
     "status": "ok",
     "timestamp": 1704345281096,
     "user": {
      "displayName": "Inno Chiu",
      "userId": "03210232940805730089"
     },
     "user_tz": -480
    },
    "id": "Km-RXdBE3hYT",
    "outputId": "8ba5f243-b62f-427b-9973-e69cb863d2f3"
   },
   "outputs": [],
   "source": [
    "import os\n",
    "path = os.getcwd() + '/content/drive/MyDrive/Colab Notebooks/test.txt'\n",
    "print(os.path.basename(path))   # test.txt\n",
    "print(os.path.dirname(path))    # /content/drive/MyDrive/Colab Notebooks\n",
    "print(os.path.exists(path))     # True\n",
    "print(os.path.isabs(path))      # True\n",
    "print(os.path.isfile(path))     # True\n",
    "print(os.path.isdir(path))      # False\n",
    "print(os.path.realpath(path))   # /content/drive/MyDrive/Colab Notebooks/test.txt\n",
    "print(os.path.split(path))        # ('/content/drive/MyDrive/Colab Notebooks', 'test.txt')\n",
    "print(os.path.splitdrive(path))   # ('', '/content/drive/MyDrive/Colab Notebooks/test.txt')\n",
    "print(os.path.splitext(path))     # ('/content/drive/MyDrive/Colab Notebooks/test', '.txt')\n",
    "print(os.path.join('content','drive','test.txt'))   # content/drive/test.txt"
   ]
  },
  {
   "cell_type": "code",
   "execution_count": null,
   "metadata": {
    "colab": {
     "base_uri": "https://localhost:8080/"
    },
    "executionInfo": {
     "elapsed": 274,
     "status": "ok",
     "timestamp": 1704345528450,
     "user": {
      "displayName": "Inno Chiu",
      "userId": "03210232940805730089"
     },
     "user_tz": -480
    },
    "id": "mZ-nuhkO5gt0",
    "outputId": "e785bc22-477a-4864-9958-565733275222"
   },
   "outputs": [],
   "source": [
    "import os\n",
    "os.system(\"mkdir test01\")\n",
    "os.system(\"cp test.txt ./demo\")\n",
    "os.system(\"rm test.txt/\")"
   ]
  },
  {
   "cell_type": "markdown",
   "metadata": {
    "id": "kOfYGkm1_aB0",
    "jp-MarkdownHeadingCollapsed": true
   },
   "source": [
    "## re 正則表達式\n",
    "***"
   ]
  },
  {
   "cell_type": "markdown",
   "metadata": {
    "id": "y0U70356AFDw"
   },
   "source": [
    "compile(pattern) 可以建立一個正規表達式的規則"
   ]
  },
  {
   "cell_type": "code",
   "execution_count": null,
   "metadata": {
    "id": "s8lpMWNn_esU"
   },
   "outputs": [],
   "source": [
    "import re\n",
    "role = re.compile(r'\\d\\d\\d')       # 連續三個數字\n",
    "result = role.search('abc123xyz')  # 使用 search 方法，使用建立的規則，搜尋 abc123xyz\n",
    "print(result.group())"
   ]
  },
  {
   "cell_type": "markdown",
   "metadata": {
    "id": "MD_2mq4ScgNp"
   },
   "source": [
    "###入門課本第三章"
   ]
  },
  {
   "cell_type": "code",
   "execution_count": null,
   "metadata": {
    "colab": {
     "base_uri": "https://localhost:8080/"
    },
    "executionInfo": {
     "elapsed": 318,
     "status": "ok",
     "timestamp": 1704354632167,
     "user": {
      "displayName": "Inno Chiu",
      "userId": "03210232940805730089"
     },
     "user_tz": -480
    },
    "id": "qjdgWoyQcmVE",
    "outputId": "641bd0e0-0d56-48a1-a5c9-1ca54dac4384"
   },
   "outputs": [],
   "source": [
    "a = 4\n",
    "if (a==5) : print(\"1\",end=\"\")\n",
    "elif(a!=4) : print(\"2\",end=\"\")\n",
    "else : print(\"3\",end=\"\")"
   ]
  },
  {
   "cell_type": "markdown",
   "metadata": {
    "jp-MarkdownHeadingCollapsed": true
   },
   "source": [
    "## 迴圈練習"
   ]
  },
  {
   "cell_type": "code",
   "execution_count": null,
   "metadata": {
    "colab": {
     "base_uri": "https://localhost:8080/"
    },
    "executionInfo": {
     "elapsed": 2770,
     "status": "ok",
     "timestamp": 1704356400028,
     "user": {
      "displayName": "Inno Chiu",
      "userId": "03210232940805730089"
     },
     "user_tz": -480
    },
    "id": "Bc39BX5AiNXv",
    "outputId": "c5701ca4-932f-4e80-bd77-f768ef65bec3"
   },
   "outputs": [],
   "source": [
    "year = int(input(\"請輸入西元年分\"))\n",
    "\n",
    "if year %400 == 0  :\n",
    "  print(year,\"是閏年!!\")\n",
    "elif year %100 == 0 :\n",
    "  print(year,\"不是閏年!!\")\n",
    "elif year %4 == 0 :\n",
    "  print(year,\"是閏年!!\")\n",
    "else :\n",
    "  print(year,\"不是閏年!!\")"
   ]
  },
  {
   "cell_type": "code",
   "execution_count": null,
   "metadata": {
    "colab": {
     "base_uri": "https://localhost:8080/"
    },
    "executionInfo": {
     "elapsed": 2516,
     "status": "ok",
     "timestamp": 1704357302414,
     "user": {
      "displayName": "Inno Chiu",
      "userId": "03210232940805730089"
     },
     "user_tz": -480
    },
    "id": "AvuqOOzjlkIa",
    "outputId": "7345feb4-e86a-4998-9ba8-49b815adb733"
   },
   "outputs": [],
   "source": [
    "year = int(input(\"請輸入西元年分\"))\n",
    "\n",
    "if year %4 != 0 or (year %400 != 0 and year %100 == 0):\n",
    "  print(year,\"不是閏年!!\")\n",
    "else :\n",
    "  print(year,\"是閏年!!\")"
   ]
  },
  {
   "cell_type": "code",
   "execution_count": null,
   "metadata": {},
   "outputs": [],
   "source": [
    "rows = 5\n",
    "sc = 65\n",
    "for i in range(rows):\n",
    "    char = sc\n",
    "    for j in range(i + 1):\n",
    "        print(chr(char), end =\" \")\n",
    "        char += 1\n",
    "    sc += 1\n",
    "    print()"
   ]
  },
  {
   "cell_type": "code",
   "execution_count": null,
   "metadata": {},
   "outputs": [],
   "source": [
    "word = input(\"請輸入單字: \")\n",
    "for i in range(len(word)):\n",
    "    print(word[:i + 1])"
   ]
  },
  {
   "cell_type": "code",
   "execution_count": null,
   "metadata": {},
   "outputs": [],
   "source": [
    "def is_prime(n):\n",
    "    for i in range(2, n):\n",
    "        if n % i == 0:  # 整除，i 是 n 的因數，所以 n 不是質數。\n",
    "            return False\n",
    "    return True     # 都沒有人能整除，所以 n 是質數。\n",
    "\n",
    "n = int(input('Input a number: '))  # 得到輸入值 n。\n",
    "\n",
    "for i in range(2, n + 1):   # 產生 2 到 n 的數字。\n",
    "    i_is_prime = is_prime(i)    # 判斷 i 是否為質數。\n",
    "    if i_is_prime:              # 如果是，印出來。\n",
    "        print(i, end=\" \")"
   ]
  },
  {
   "cell_type": "code",
   "execution_count": null,
   "metadata": {},
   "outputs": [],
   "source": [
    "n = 2\n",
    "while n <= 100:\n",
    "    is_prime = True\n",
    "    for i in range(2, n):\n",
    "        if n % i == 0:\n",
    "            is_prime = False\n",
    "    if is_prime == True:\n",
    "        print(n)\n",
    "    n += 1"
   ]
  },
  {
   "cell_type": "code",
   "execution_count": null,
   "metadata": {},
   "outputs": [],
   "source": [
    "rows = 26\n",
    "start_word = 65\n",
    "\n",
    "for i in range(0, rows):\n",
    "    n = start_word\n",
    "    for j in range(0, i+1):\n",
    "        print(chr(n), end=\" \")\n",
    "        n += 1\n",
    "    start_word += 1\n",
    "    print()"
   ]
  },
  {
   "cell_type": "markdown",
   "metadata": {
    "jp-MarkdownHeadingCollapsed": true
   },
   "source": [
    "# <span style='color:DeepSkyBlue'>Markdown基本功能學習</span>\n",
    "***\n",
    "功能測試!!(點兩下看程式碼)\n",
    "***"
   ]
  },
  {
   "cell_type": "markdown",
   "metadata": {},
   "source": [
    "[Markdown 基礎一](http://www.ewin.tw/app/wp-content/uploads/2020/02/Markdown-1.html)  "
   ]
  },
  {
   "cell_type": "markdown",
   "metadata": {},
   "source": [
    "* 第一層清單\n",
    "* 第一層清單\n",
    "  * 第二層清單\n",
    "  * 第二層清單"
   ]
  },
  {
   "cell_type": "markdown",
   "metadata": {},
   "source": [
    "* 第一層清單\n",
    "* 第一層清單\n",
    "  1. 第二層清單\n",
    "     * 第三層清單\n",
    "  2. 第二層清單"
   ]
  },
  {
   "cell_type": "markdown",
   "metadata": {},
   "source": [
    "markdown\n",
    "- [x] 已完成項目\n",
    "- [ ] 未完成項目"
   ]
  },
  {
   "cell_type": "markdown",
   "metadata": {},
   "source": [
    "![jupyter](C:\\Users\\USER\\桌面\\邱子桓python\\1200px-Jupyter_logo.svg.png)"
   ]
  },
  {
   "cell_type": "markdown",
   "metadata": {},
   "source": [
    "[Markdown 插入圖片的方法](https://blog.csdn.net/zzc15806/article/details/82633865)"
   ]
  },
  {
   "cell_type": "markdown",
   "metadata": {},
   "source": [
    "# <span style='color:DeepSkyBlue'>串列與元組</span>"
   ]
  },
  {
   "cell_type": "code",
   "execution_count": null,
   "metadata": {},
   "outputs": [],
   "source": [
    "list1=[]"
   ]
  },
  {
   "cell_type": "code",
   "execution_count": null,
   "metadata": {},
   "outputs": [],
   "source": [
    "dir(list1)"
   ]
  },
  {
   "cell_type": "code",
   "execution_count": null,
   "metadata": {},
   "outputs": [],
   "source": [
    "tuple1=()"
   ]
  },
  {
   "cell_type": "code",
   "execution_count": null,
   "metadata": {},
   "outputs": [],
   "source": [
    "dir(tuple1)"
   ]
  },
  {
   "cell_type": "markdown",
   "metadata": {},
   "source": [
    "![jupyter](C:\\Users\\USER\\桌面\\邱子桓python\\comprehension_cheat.png)"
   ]
  },
  {
   "cell_type": "markdown",
   "metadata": {},
   "source": [
    "---"
   ]
  },
  {
   "cell_type": "markdown",
   "metadata": {},
   "source": [
    "字典"
   ]
  },
  {
   "cell_type": "code",
   "execution_count": null,
   "metadata": {},
   "outputs": [],
   "source": [
    "student = [\n",
    "    ['邱子桓','男','1995-10-20',87,94,55],\n",
    "    ['林阿明','男','1995-01-01',55,64,75],\n",
    "    ['王小美','女','1995-07-20',80,61,35],\n",
    "    ['張大偉','男','1995-06-10',90,80,68]\n",
    "]"
   ]
  },
  {
   "cell_type": "code",
   "execution_count": null,
   "metadata": {},
   "outputs": [],
   "source": [
    "student = [\n",
    "    ['邱子桓','男','1995-10-20',87,94,55,78.67],\n",
    "    ['林阿明','男','1995-01-01',55,64,75,64.67],\n",
    "    ['王小美','女','1995-07-20',80,61,35,58.67],\n",
    "    ['張大偉','男','1995-06-10',90,80,68,79.33]\n",
    "]\n",
    "st= list(zip(*student))\n",
    "dict1 = { \"姓名\":st[0],\"性別\":st[1],\"生日\":st[2],\"國文\":st[3],\"數學\":st[4],\"英文\":st[5],\"平均\":st[6] }\n",
    "dict1 "
   ]
  },
  {
   "cell_type": "markdown",
   "metadata": {},
   "source": [
    "---"
   ]
  },
  {
   "cell_type": "code",
   "execution_count": null,
   "metadata": {},
   "outputs": [],
   "source": [
    "listkey = list(dict1.keys())\n",
    "listkey"
   ]
  },
  {
   "cell_type": "code",
   "execution_count": null,
   "metadata": {},
   "outputs": [],
   "source": [
    "listvalue = list(dict1.values())\n",
    "listvalue"
   ]
  },
  {
   "cell_type": "code",
   "execution_count": null,
   "metadata": {},
   "outputs": [],
   "source": [
    "list1=sorted(  list(zip(*listvalue)) , key = lambda s : s[6], reverse=True)\n",
    "list1"
   ]
  },
  {
   "cell_type": "code",
   "execution_count": null,
   "metadata": {},
   "outputs": [],
   "source": [
    "list2= list(zip(*list1))\n",
    "list2"
   ]
  },
  {
   "cell_type": "code",
   "execution_count": null,
   "metadata": {},
   "outputs": [],
   "source": [
    "list2= list(zip(*list1))\n",
    "target = { listkey[0]:list2[0],\n",
    "           listkey[1]:list2[1],\n",
    "           listkey[2]:list2[2],\n",
    "           listkey[3]:list2[3],\n",
    "           listkey[4]:list2[4],\n",
    "           listkey[5]:list2[5],\n",
    "           listkey[6]:list2[6] }\n",
    "target"
   ]
  },
  {
   "cell_type": "markdown",
   "metadata": {},
   "source": [
    "---"
   ]
  },
  {
   "cell_type": "markdown",
   "metadata": {},
   "source": [
    "設計 新函式 結構轉換 排序字典"
   ]
  },
  {
   "cell_type": "code",
   "execution_count": null,
   "metadata": {},
   "outputs": [],
   "source": [
    "def 字典排序(source, keylist, rev = False):\n",
    "    \n",
    "    listkey = list(source.keys())\n",
    "    indexNo = listkey.index(keylist)\n",
    "    listvalue = list(source.values())\n",
    "    list1=sorted(  list(zip(*listvalue)) , key = lambda s : s[indexNo], reverse=rev)\n",
    "    list2= list(zip(*list1))\n",
    "\n",
    "    target = {}\n",
    "    for n in range(len(listkey)):\n",
    "        target[listkey[n]]=list2[n]\n",
    "\n",
    "    return target\n",
    "\n",
    "dictSorted=字典排序(dict1, '平均', True)\n",
    "dictSorted"
   ]
  },
  {
   "cell_type": "markdown",
   "metadata": {},
   "source": [
    "---"
   ]
  },
  {
   "cell_type": "code",
   "execution_count": null,
   "metadata": {},
   "outputs": [],
   "source": [
    "dict2= [ { \"姓名\":i[0],\"性別\":i[1],\"生日\":i[2],\"國文\":i[3],\"數學\":i[4],\"英文\":i[5] } for i in student  ]\n",
    "dict2"
   ]
  },
  {
   "cell_type": "code",
   "execution_count": null,
   "metadata": {},
   "outputs": [],
   "source": [
    "for dict in dict2:\n",
    "    dict['平均'] = round((dict['國文']+dict['數學']+dict['英文'])/3,2)\n",
    "dict2"
   ]
  },
  {
   "cell_type": "code",
   "execution_count": null,
   "metadata": {},
   "outputs": [],
   "source": [
    "sorted(dict2, key = lambda i: (i['平均'],i['國文']), reverse=True)"
   ]
  },
  {
   "cell_type": "code",
   "execution_count": null,
   "metadata": {},
   "outputs": [],
   "source": [
    "average=[]\n",
    "for n in range(len(student)):\n",
    "    average.append( round((dict1['國文'][n]+dict1['數學'][n]+dict1['英文'][n])/3,2))\n",
    "dict1['平均']= average\n",
    "dict1"
   ]
  },
  {
   "cell_type": "code",
   "execution_count": null,
   "metadata": {},
   "outputs": [],
   "source": [
    "dict1['平均'] = [ round((dict1['國文'][n]+dict1['數學'][n]+dict1['英文'][n])/3,2) for n in range(len(student)) ]\n",
    "dict1"
   ]
  },
  {
   "cell_type": "code",
   "execution_count": null,
   "metadata": {},
   "outputs": [],
   "source": []
  },
  {
   "cell_type": "markdown",
   "metadata": {},
   "source": [
    "串列"
   ]
  },
  {
   "cell_type": "markdown",
   "metadata": {},
   "source": [
    "---"
   ]
  },
  {
   "cell_type": "code",
   "execution_count": null,
   "metadata": {},
   "outputs": [],
   "source": [
    "student = [\n",
    "    ['邱子桓','男','1995-10-20',87,94,55],\n",
    "    ['林阿明','男','1995-01-01',55,64,75],\n",
    "    ['王小美','女','1997-07-20',80,61,35],\n",
    "    ['張大偉','男','1995-06-10',90,80,68]\n",
    "]"
   ]
  },
  {
   "cell_type": "code",
   "execution_count": null,
   "metadata": {},
   "outputs": [],
   "source": [
    "for n in range(len(student)):\n",
    "    avg =round( (student[n][3]+student[n][4]+student[n][5])/3 , 2) #round 4捨五入到小數點後2位\n",
    "    student[n].append(avg)\n",
    "student"
   ]
  },
  {
   "cell_type": "code",
   "execution_count": null,
   "metadata": {},
   "outputs": [],
   "source": [
    "name = []\n",
    "for n in range(len(student)):\n",
    "    if student[n][0][0]=='邱':\n",
    "        name.append(student[n])\n",
    "name"
   ]
  },
  {
   "cell_type": "code",
   "execution_count": null,
   "metadata": {},
   "outputs": [],
   "source": [
    "def func(x):\n",
    "    return x[6]\n",
    "sorted(student,key=func,reverse=True)\n",
    "student"
   ]
  },
  {
   "cell_type": "code",
   "execution_count": null,
   "metadata": {},
   "outputs": [],
   "source": [
    "dict1={2:56, 1:2, 5:12, 4:24, 6:18, 3:323}\n",
    "for k in dict1:\n",
    "\tprint(k,dict1[k])"
   ]
  },
  {
   "cell_type": "code",
   "execution_count": null,
   "metadata": {},
   "outputs": [],
   "source": [
    "for n,item in enumerate(student):\n",
    "    if item[0] == '王小美' :\n",
    "        print(n,item)"
   ]
  },
  {
   "cell_type": "code",
   "execution_count": null,
   "metadata": {},
   "outputs": [],
   "source": [
    "import random\n",
    "\n",
    "list1 = []\n",
    "for n in range(20):\n",
    "    list1.append(random.randint(1, 6))\n",
    "list1"
   ]
  },
  {
   "cell_type": "code",
   "execution_count": null,
   "metadata": {},
   "outputs": [],
   "source": [
    "import random\n",
    "list2 = [random.randint(1, 6) for n in range(20)]\n",
    "list2"
   ]
  },
  {
   "cell_type": "code",
   "execution_count": null,
   "metadata": {},
   "outputs": [],
   "source": [
    "a= list1.pop()\n",
    "a"
   ]
  },
  {
   "cell_type": "code",
   "execution_count": null,
   "metadata": {},
   "outputs": [],
   "source": [
    "p_n=\"SS-DDDD\"\n",
    "parts= \"\"\n",
    "while p_n != \"\":\n",
    "    vaild = False\n",
    "    p_n=input(\"(ss-dddd)\")\n",
    "    parts = p_n.split(\"-\")\n",
    "    if len(parts) == 2 and (len(parts[0]) ==2 and parts[0].isalpha()) and (len(parts[1]) ==4 and parts[1].isdigit()):\n",
    "        vaild = True\n",
    "    print(vaild)"
   ]
  },
  {
   "cell_type": "code",
   "execution_count": null,
   "metadata": {},
   "outputs": [],
   "source": [
    "import re\n",
    "role = re.compile(r'[A-Za-z]{2}-\\d{4}')\n",
    "sn=input(\"(SS-DDDD)\")\n",
    "result = role.findall(sn)\n",
    "print(result)"
   ]
  },
  {
   "cell_type": "code",
   "execution_count": null,
   "metadata": {},
   "outputs": [],
   "source": [
    "list1=list(range(5, -1, -1))+list(range(1, 6))\n",
    "list1"
   ]
  },
  {
   "cell_type": "code",
   "execution_count": null,
   "metadata": {},
   "outputs": [],
   "source": [
    "list1 = [abs(n) for n in range(-5, 6)]\n",
    "list1"
   ]
  },
  {
   "cell_type": "code",
   "execution_count": null,
   "metadata": {},
   "outputs": [],
   "source": [
    "list1=[]\n",
    "[list1.append(n) for n in range(0,6)]\n",
    "[list1.append(n) for n in range(4, -1 ,-1)]\n",
    "list1"
   ]
  },
  {
   "cell_type": "code",
   "execution_count": null,
   "metadata": {},
   "outputs": [],
   "source": [
    "list1=[ [0 for m in range(5)] for n in range(5)]\n",
    "list1"
   ]
  },
  {
   "cell_type": "code",
   "execution_count": null,
   "metadata": {},
   "outputs": [],
   "source": [
    "list1=[ [m+n for m in range(5)] for n in range(4)]\n",
    "list1"
   ]
  },
  {
   "cell_type": "code",
   "execution_count": null,
   "metadata": {},
   "outputs": [],
   "source": [
    "a = {'name':'oxxo', 'age':18, 'weight':60, 'height':170}\n",
    "b = a.keys()\n",
    "c = a.values()\n",
    "d = a.items()\n",
    "print(b)         # dict_keys(['name', 'age', 'weight', 'height'])\n",
    "print(c)         # dict_values(['oxxo', 18, 60, 170])\n",
    "print(d)\n",
    "print(list(b))   # ['name', 'age', 'weight', 'height']\n",
    "print(list(c))   # ['oxxo', 18, 60, 170]\n",
    "print(list(d))"
   ]
  },
  {
   "cell_type": "markdown",
   "metadata": {
    "jp-MarkdownHeadingCollapsed": true
   },
   "source": [
    "# <span style='color:DeepSkyBlue'>Tkinter GUI設計教學</span>"
   ]
  },
  {
   "cell_type": "code",
   "execution_count": null,
   "metadata": {},
   "outputs": [],
   "source": [
    "import tkinter as tk\n",
    "\n",
    "root = tk.Tk()   # 建立 tkinter 視窗物件\n",
    "root.mainloop()  # 放在主迴圈中"
   ]
  },
  {
   "cell_type": "markdown",
   "metadata": {},
   "source": [
    "## pack"
   ]
  },
  {
   "cell_type": "code",
   "execution_count": null,
   "metadata": {},
   "outputs": [],
   "source": [
    "from tkinter import *\n",
    "root = Tk()\n",
    "root.title('87cat.studio') # 設定標題\n",
    "root.iconbitmap('cat_icon.ico')  # 設定 icon ( 格式限定 .ico )\n",
    "root.configure(background='#6495ED')\n",
    "\n",
    "window_width = root.winfo_screenwidth()    # 取得螢幕寬度\n",
    "window_height = root.winfo_screenheight()  # 取得螢幕高度\n",
    "\n",
    "width = 600\n",
    "height = 400\n",
    "left = int((window_width - width)/2)       # 計算左上 x 座標\n",
    "top = int((window_height - height)/2)      # 計算左上 y 座標\n",
    "root.geometry(f'{width}x{height}+{left}+{top}')  # geometry(f'{width}x{height}+{left}+{top}') <== 4種參數都要輸入!\n",
    "\n",
    "frame = Frame(root,background='#6495ED')\n",
    "frame1 = Frame(root,background='#6495ED')\n",
    "\n",
    "\n",
    "Label(frame,text='123',font=('Consolas',40,'bold'),fg='#FFDEAD',bg='#191970',relief='groove').pack(side=LEFT,padx=20, pady=20)\n",
    "Label(frame,text='456',font=('Consolas',40,'bold'),fg='#FFDEAD',bg='#191970',relief='groove').pack(side=RIGHT,padx=20, pady=20)\n",
    "Label(frame,text='ABC',font=('Consolas',40,'bold'),fg='#FFDEAD',bg='#191970',relief='groove').pack(side=TOP,padx=20, pady=20)\n",
    "frame.pack(side='top', fill=X)\n",
    "Label(frame1,text='789',font=('Consolas',40,'bold'),fg='#FFDEAD',bg='#191970',relief='groove').pack(side=LEFT,padx=20, pady=20)\n",
    "Label(frame1,text='888',font=('Consolas',40,'bold'),fg='#FFDEAD',bg='#191970',relief='groove').pack(side=RIGHT,padx=20, pady=20)\n",
    "Label(frame1,text='DEF',font=('Consolas',40,'bold'),fg='#FFDEAD',bg='#191970',relief='groove').pack(side=BOTTOM,padx=20, pady=20)\n",
    "frame1.pack(side='bottom', fill=X)\n",
    "Label(root,text='GGG',font=('Consolas',40,'bold'),fg='#FFDEAD',bg='#191970',relief='groove').pack(side=LEFT,padx=20, pady=20)\n",
    "Label(root,text='HHH',font=('Consolas',40,'bold'),fg='#FFDEAD',bg='#191970',relief='groove').pack(side=RIGHT,padx=20, pady=20)\n",
    "Label(root,text='XXX',font=('Consolas',40,'bold'),fg='#FFDEAD',bg='#191970',relief='groove').pack(side=TOP,fill=NONE, expand=True)\n",
    "\n",
    "\n",
    "root.mainloop()"
   ]
  },
  {
   "cell_type": "code",
   "execution_count": null,
   "metadata": {},
   "outputs": [],
   "source": [
    "from tkinter import *\n",
    "root = Tk()\n",
    "\n",
    "frame = Frame(root)\n",
    "# demo of side and fill options\n",
    "Label(frame, text=\"Pack Demo of side and fill\").pack()\n",
    "Button(frame, text=\"A\").pack(side=LEFT, fill=Y)\n",
    "Button(frame, text=\"B\").pack(side=TOP, fill=X)\n",
    "Button(frame, text=\"C\").pack(side=RIGHT, fill=NONE)\n",
    "Button(frame, text=\"D\").pack(side=TOP, fill=BOTH)\n",
    "frame.pack()\n",
    "# note the top frame does not expand nor does it fill in\n",
    "\n",
    "# X or Y directions\n",
    "# demo of expand options - best understood by expanding the root widget and seeing the effect on all the three buttons below.\n",
    "Label (root, text=\"Pack Demo of expand\").pack()\n",
    "Button(root, text=\"I do not expand\").pack()\n",
    "Button(root, text=\"I do not fill x but I expand\").pack(expand = 1)\n",
    "Button(root, text=\"I fill x and expand\").pack(fill=X, expand=1)\n",
    "root.mainloop()"
   ]
  },
  {
   "cell_type": "code",
   "execution_count": null,
   "metadata": {},
   "outputs": [],
   "source": [
    "import tkinter as tk\n",
    "\n",
    "root = tk.Tk()\n",
    "root.title('oxxo.studio')\n",
    "root.geometry('200x200')\n",
    "\n",
    "a = tk.Label(root, text='AAA', background='#f90')\n",
    "b = tk.Label(root, text='BBB', background='#09c')\n",
    "\n",
    "a.pack(fill='y',expand=1)\n",
    "b.pack(fill='both')\n",
    "\n",
    "root.mainloop()"
   ]
  },
  {
   "cell_type": "markdown",
   "metadata": {},
   "source": [
    "## grid"
   ]
  },
  {
   "cell_type": "code",
   "execution_count": null,
   "metadata": {},
   "outputs": [],
   "source": [
    "from tkinter import *\n",
    "import tkinter as tk\n",
    "root = Tk()\n",
    "root.title('87cat.studio') # 設定標題\n",
    "root.iconbitmap('cat_icon.ico')  # 設定 icon ( 格式限定 .ico )\n",
    "root.configure(background='#000')\n",
    "\n",
    "window_width = root.winfo_screenwidth()    # 取得螢幕寬度\n",
    "window_height = root.winfo_screenheight()  # 取得螢幕高度\n",
    "\n",
    "width = 600\n",
    "height = 400\n",
    "left = int((window_width - width)/2)       # 計算左上 x 座標\n",
    "top = int((window_height - height)/2)      # 計算左上 y 座標\n",
    "root.geometry(f'{width}x{height}+{left}+{top}')\n",
    "\n",
    "frame=Frame(root)\n",
    "\n",
    "a = tk.Label(root, text='AAA', background='#f90')\n",
    "b = tk.Label(root, text='BBB', background='#09c')\n",
    "c = tk.Label(root, text='CCC', background='#fc0')\n",
    "d = tk.Label(root, text='DDD', background='#0c9')\n",
    "e = tk.Label(root, text='EEE', background='#f90')\n",
    "f = tk.Label(root, text='FFF', background='#09c')\n",
    "g = tk.Label(root, text='GGG', background='#fc0')\n",
    "h = tk.Label(root, text='HHH', background='#0c9')\n",
    "i = tk.Label(root, text='III', background='#f90')\n",
    "\n",
    "a.grid(row=0,column=0,padx=35,ipadx=48,pady=20,ipady=35)\n",
    "b.grid(row=0,column=1,padx=35,ipadx=48,pady=20,ipady=35)\n",
    "c.grid(row=0,column=2,padx=35,ipadx=48,pady=20,ipady=35)\n",
    "d.grid(row=1,column=0,padx=35,ipadx=48,pady=20,ipady=35)\n",
    "e.grid(row=1,column=1,padx=35,ipadx=48,pady=20,ipady=35)\n",
    "f.grid(row=1,column=2,padx=35,ipadx=48,pady=20,ipady=35)\n",
    "g.grid(row=2,column=0,padx=35,ipadx=48,pady=20,ipady=35)\n",
    "h.grid(row=2,column=1,padx=35,ipadx=48,pady=20,ipady=35)\n",
    "i.grid(row=2,column=2,padx=35,ipadx=48,pady=20,ipady=35)\n",
    "root.mainloop()"
   ]
  },
  {
   "cell_type": "code",
   "execution_count": null,
   "metadata": {},
   "outputs": [],
   "source": [
    "from tkinter import *\n",
    "import tkinter as tk\n",
    "root = Tk()\n",
    "root.title('87cat.studio') # 設定標題\n",
    "root.iconbitmap('cat_icon.ico')  # 設定 icon ( 格式限定 .ico )\n",
    "root.configure(background='#000')\n",
    "\n",
    "window_width = root.winfo_screenwidth()    # 取得螢幕寬度\n",
    "window_height = root.winfo_screenheight()  # 取得螢幕高度\n",
    "\n",
    "width = 600\n",
    "height = 400\n",
    "left = int((window_width - width)/2)       # 計算左上 x 座標\n",
    "top = int((window_height - height)/2)      # 計算左上 y 座標\n",
    "root.geometry(f'{width}x{height}+{left}+{top}')\n",
    "\n",
    "a = tk.Label(root, text='AAA', background='#f90')\n",
    "b = tk.Label(root, text='BBB', background='#09c')\n",
    "c = tk.Label(root, text='CCC', background='#fc0')\n",
    "d = tk.Label(root, text='DDD', background='#0c9')\n",
    "e = tk.Label(root, text='EEE', background='#ccc')\n",
    "f = tk.Label(root, text='FFF', background='#fff')\n",
    "g = tk.Label(root, text='GGG', background='#999')\n",
    "a.grid(row=1, column=0, rowspan=2,columnspan=2)\n",
    "b.grid(row=1, column=2, rowspan=2)\n",
    "c.grid(row=0, column=0)\n",
    "d.grid(row=0, column=1)\n",
    "e.grid(row=0, column=2)\n",
    "f.grid(row=3, column=3)\n",
    "g.grid(row=2, column=3)\n",
    "root.mainloop()"
   ]
  },
  {
   "cell_type": "code",
   "execution_count": null,
   "metadata": {},
   "outputs": [],
   "source": [
    "from tkinter import *\n",
    "\n",
    "MAX_ROWS = 36  #36列\n",
    "FONT_SIZE = 10 # 字體大小(pixels)\n",
    "\n",
    "COLORS = ['snow', 'ghost white', 'white smoke', 'gainsboro', 'floral white', 'old lace',\n",
    "    'linen', 'antique white', 'papaya whip', 'blanched almond', 'bisque', 'peach puff',\n",
    "    'navajo white', 'lemon chiffon', 'mint cream', 'azure', 'alice blue', 'lavender',\n",
    "    'lavender blush', 'misty rose', 'dark slate gray', 'dim gray', 'slate gray',\n",
    "    'light slate gray', 'gray', 'light grey', 'midnight blue', 'navy', 'cornflower blue', 'dark slate blue',\n",
    "    'slate blue', 'medium slate blue', 'light slate blue', 'medium blue', 'royal blue',  'blue',\n",
    "    'dodger blue', 'deep sky blue', 'sky blue', 'light sky blue', 'steel blue', 'light steel blue',\n",
    "    'light blue', 'powder blue', 'pale turquoise', 'dark turquoise', 'medium turquoise', 'turquoise',\n",
    "    'cyan', 'light cyan', 'cadet blue', 'medium aquamarine', 'aquamarine', 'dark green', 'dark olive green',\n",
    "    'dark sea green', 'sea green', 'medium sea green', 'light sea green', 'pale green', 'spring green',\n",
    "    'lawn green', 'medium spring green', 'green yellow', 'lime green', 'yellow green',\n",
    "    'forest green', 'olive drab', 'dark khaki', 'khaki', 'pale goldenrod', 'light goldenrod yellow',\n",
    "    'light yellow', 'yellow', 'gold', 'light goldenrod', 'goldenrod', 'dark goldenrod', 'rosy brown',\n",
    "    'indian red', 'saddle brown', 'sandy brown',\n",
    "    'dark salmon', 'salmon', 'light salmon', 'orange', 'dark orange',\n",
    "    'coral', 'light coral', 'tomato', 'orange red', 'red', 'hot pink', 'deep pink', 'pink', 'light pink',\n",
    "    'pale violet red', 'maroon', 'medium violet red', 'violet red',\n",
    "    'medium orchid', 'dark orchid', 'dark violet', 'blue violet', 'purple', 'medium purple',\n",
    "    'thistle', 'snow2', 'snow3',\n",
    "    'snow4', 'seashell2', 'seashell3', 'seashell4', 'AntiqueWhite1', 'AntiqueWhite2',\n",
    "    'AntiqueWhite3', 'AntiqueWhite4', 'bisque2', 'bisque3', 'bisque4', 'PeachPuff2',\n",
    "    'PeachPuff3', 'PeachPuff4', 'NavajoWhite2', 'NavajoWhite3', 'NavajoWhite4',\n",
    "    'LemonChiffon2', 'LemonChiffon3', 'LemonChiffon4', 'cornsilk2', 'cornsilk3',\n",
    "    'cornsilk4', 'ivory2', 'ivory3', 'ivory4', 'honeydew2', 'honeydew3', 'honeydew4',\n",
    "    'LavenderBlush2', 'LavenderBlush3', 'LavenderBlush4', 'MistyRose2', 'MistyRose3',\n",
    "    'MistyRose4', 'azure2', 'azure3', 'azure4', 'SlateBlue1', 'SlateBlue2', 'SlateBlue3',\n",
    "    'SlateBlue4', 'RoyalBlue1', 'RoyalBlue2', 'RoyalBlue3', 'RoyalBlue4', 'blue2', 'blue4',\n",
    "    'DodgerBlue2', 'DodgerBlue3', 'DodgerBlue4', 'SteelBlue1', 'SteelBlue2',\n",
    "    'SteelBlue3', 'SteelBlue4', 'DeepSkyBlue2', 'DeepSkyBlue3', 'DeepSkyBlue4',\n",
    "    'SkyBlue1', 'SkyBlue2', 'SkyBlue3', 'SkyBlue4', 'LightSkyBlue1', 'LightSkyBlue2',\n",
    "    'LightSkyBlue3', 'LightSkyBlue4', 'SlateGray1', 'SlateGray2', 'SlateGray3',\n",
    "    'SlateGray4', 'LightSteelBlue1', 'LightSteelBlue2', 'LightSteelBlue3',\n",
    "    'LightSteelBlue4', 'LightBlue1', 'LightBlue2', 'LightBlue3', 'LightBlue4',\n",
    "    'LightCyan2', 'LightCyan3', 'LightCyan4', 'PaleTurquoise1', 'PaleTurquoise2',\n",
    "    'PaleTurquoise3', 'PaleTurquoise4', 'CadetBlue1', 'CadetBlue2', 'CadetBlue3',\n",
    "    'CadetBlue4', 'turquoise1', 'turquoise2', 'turquoise3', 'turquoise4', 'cyan2', 'cyan3',\n",
    "    'cyan4', 'DarkSlateGray1', 'DarkSlateGray2', 'DarkSlateGray3', 'DarkSlateGray4',\n",
    "    'aquamarine2', 'aquamarine4', 'DarkSeaGreen1', 'DarkSeaGreen2', 'DarkSeaGreen3',\n",
    "    'DarkSeaGreen4', 'SeaGreen1', 'SeaGreen2', 'SeaGreen3', 'PaleGreen1', 'PaleGreen2',\n",
    "    'PaleGreen3', 'PaleGreen4', 'SpringGreen2', 'SpringGreen3', 'SpringGreen4',\n",
    "    'green2', 'green3', 'green4', 'chartreuse2', 'chartreuse3', 'chartreuse4',\n",
    "    'OliveDrab1', 'OliveDrab2', 'OliveDrab4', 'DarkOliveGreen1', 'DarkOliveGreen2',\n",
    "    'DarkOliveGreen3', 'DarkOliveGreen4', 'khaki1', 'khaki2', 'khaki3', 'khaki4',\n",
    "    'LightGoldenrod1', 'LightGoldenrod2', 'LightGoldenrod3', 'LightGoldenrod4',\n",
    "    'LightYellow2', 'LightYellow3', 'LightYellow4', 'yellow2', 'yellow3', 'yellow4',\n",
    "    'gold2', 'gold3', 'gold4', 'goldenrod1', 'goldenrod2', 'goldenrod3', 'goldenrod4',\n",
    "    'DarkGoldenrod1', 'DarkGoldenrod2', 'DarkGoldenrod3', 'DarkGoldenrod4',\n",
    "    'RosyBrown1', 'RosyBrown2', 'RosyBrown3', 'RosyBrown4', 'IndianRed1', 'IndianRed2',\n",
    "    'IndianRed3', 'IndianRed4', 'sienna1', 'sienna2', 'sienna3', 'sienna4', 'burlywood1',\n",
    "    'burlywood2', 'burlywood3', 'burlywood4', 'wheat1', 'wheat2', 'wheat3', 'wheat4', 'tan1',\n",
    "    'tan2', 'tan4', 'chocolate1', 'chocolate2', 'chocolate3', 'firebrick1', 'firebrick2',\n",
    "    'firebrick3', 'firebrick4', 'brown1', 'brown2', 'brown3', 'brown4', 'salmon1', 'salmon2',\n",
    "    'salmon3', 'salmon4', 'LightSalmon2', 'LightSalmon3', 'LightSalmon4', 'orange2',\n",
    "    'orange3', 'orange4', 'DarkOrange1', 'DarkOrange2', 'DarkOrange3', 'DarkOrange4',\n",
    "    'coral1', 'coral2', 'coral3', 'coral4', 'tomato2', 'tomato3', 'tomato4', 'OrangeRed2',\n",
    "    'OrangeRed3', 'OrangeRed4', 'red2', 'red3', 'red4', 'DeepPink2', 'DeepPink3', 'DeepPink4',\n",
    "    'HotPink1', 'HotPink2', 'HotPink3', 'HotPink4', 'pink1', 'pink2', 'pink3', 'pink4',\n",
    "    'LightPink1', 'LightPink2', 'LightPink3', 'LightPink4', 'PaleVioletRed1',\n",
    "    'PaleVioletRed2', 'PaleVioletRed3', 'PaleVioletRed4', 'maroon1', 'maroon2',\n",
    "    'maroon3', 'maroon4', 'VioletRed1', 'VioletRed2', 'VioletRed3', 'VioletRed4',\n",
    "    'magenta2', 'magenta3', 'magenta4', 'orchid1', 'orchid2', 'orchid3', 'orchid4', 'plum1',\n",
    "    'plum2', 'plum3', 'plum4', 'MediumOrchid1', 'MediumOrchid2', 'MediumOrchid3',\n",
    "    'MediumOrchid4', 'DarkOrchid1', 'DarkOrchid2', 'DarkOrchid3', 'DarkOrchid4',\n",
    "    'purple1', 'purple2', 'purple3', 'purple4', 'MediumPurple1', 'MediumPurple2',\n",
    "    'MediumPurple3', 'MediumPurple4', 'thistle1', 'thistle2', 'thistle3', 'thistle4',\n",
    "    'gray1', 'gray2', 'gray3', 'gray4', 'gray5', 'gray6', 'gray7', 'gray8', 'gray9', 'gray10',\n",
    "    'gray11', 'gray12', 'gray13', 'gray14', 'gray15', 'gray16', 'gray17', 'gray18', 'gray19',\n",
    "    'gray20', 'gray21', 'gray22', 'gray23', 'gray24', 'gray25', 'gray26', 'gray27', 'gray28',\n",
    "    'gray29', 'gray30', 'gray31', 'gray32', 'gray33', 'gray34', 'gray35', 'gray36', 'gray37',\n",
    "    'gray38', 'gray39', 'gray40', 'gray42', 'gray43', 'gray44', 'gray45', 'gray46', 'gray47',\n",
    "    'gray48', 'gray49', 'gray50', 'gray51', 'gray52', 'gray53', 'gray54', 'gray55', 'gray56',\n",
    "    'gray57', 'gray58', 'gray59', 'gray60', 'gray61', 'gray62', 'gray63', 'gray64', 'gray65',\n",
    "    'gray66', 'gray67', 'gray68', 'gray69', 'gray70', 'gray71', 'gray72', 'gray73', 'gray74',\n",
    "    'gray75', 'gray76', 'gray77', 'gray78', 'gray79', 'gray80', 'gray81', 'gray82', 'gray83',\n",
    "    'gray84', 'gray85', 'gray86', 'gray87', 'gray88', 'gray89', 'gray90', 'gray91', 'gray92',\n",
    "    'gray93', 'gray94', 'gray95', 'gray97', 'gray98', 'gray99']\n",
    "\n",
    "root = Tk()\n",
    "root.title(\"Named colour chart\")\n",
    "row = 0\n",
    "col = 0\n",
    "for color in COLORS:\n",
    "  e = Label(root, text=color, background=color, \n",
    "        font=('Consolas', -FONT_SIZE))\n",
    "  e.grid(row=row, column=col, sticky=E+W)\n",
    "  row += 1\n",
    "  if (row > 36):\n",
    "    row = 0\n",
    "    col += 1\n",
    "\n",
    "root.mainloop()"
   ]
  },
  {
   "cell_type": "code",
   "execution_count": null,
   "metadata": {},
   "outputs": [],
   "source": [
    "from tkinter import *\n",
    "\n",
    "\n",
    "class ScrolledFrame(Frame):\n",
    "    def __init__(self, master=None, *args, **kwargs):\n",
    "        top = Frame(master)  # create top frame, containing all things\n",
    "        # attach scrollbars\n",
    "        vscroll = Scrollbar(top)\n",
    "        vscroll.pack(side='right', fill='y')\n",
    "        hscroll = Scrollbar(top, orient='horizontal')\n",
    "        hscroll.pack(side='bottom', fill='x')\n",
    "        # hack: insert self into scrollable canvas\n",
    "        canvas = Canvas(top, highlightthickness=0)\n",
    "        canvas.pack(expand=True, fill='both')\n",
    "        super().__init__(master=canvas, *args, **kwargs)  # create\n",
    "        canvas.create_window(0,0, window=self,\n",
    "                             anchor='nw', tags='frame')  # insert\n",
    "        # add a hack to rebuild scrollable area size\n",
    "        canvas.bind('<Configure>', self.__set_scroll)\n",
    "        # cross-bind scrolling\n",
    "        vscroll['command'] = canvas.yview\n",
    "        canvas['yscrollcommand'] = vscroll.set\n",
    "        hscroll['command'] = canvas.xview\n",
    "        canvas['xscrollcommand'] = hscroll.set\n",
    "        # attach hierarchically\n",
    "        self._top = top\n",
    "        self._top._vscroll = vscroll\n",
    "        self._top._hscroll = hscroll\n",
    "        self._top._canvas = canvas\n",
    "\n",
    "    def pack(self, *args, **kwargs):\n",
    "        '''\n",
    "        A wrapper over tkinter's pack\n",
    "        '''\n",
    "        return self._top.pack(*args, **kwargs) # pack topmost\n",
    "\n",
    "    def __set_scroll(self, event=None):\n",
    "        canvas = self._top._canvas\n",
    "        canvas.config(scrollregion=canvas.bbox('frame'))\n",
    "\n",
    "def showcolors(colors):\n",
    "    colors = colors[:]\n",
    "    root = Tk()\n",
    "    root.title('Tkinter colors showcase')\n",
    "    Label(root, text='Double click to copy to clipboard').pack(fill='x')\n",
    "    top = ScrolledFrame(root)\n",
    "    colnum = int((len(colors)/3) ** 0.5)\n",
    "    row = 0\n",
    "    while colors:\n",
    "        chunk, colors = colors[:colnum], colors[colnum:]\n",
    "        for col, color in enumerate(chunk):\n",
    "            lab = Label(top, text=color, bg=color)\n",
    "            lab.grid(row=row, column=col, sticky='wens')\n",
    "            lab.bind('<Double-1>', _clipboard_copy(lab))\n",
    "            lab.bind('<Enter>', lambda ev, lab=lab: lab.config(fg='white'))\n",
    "            lab.bind('<Leave>', lambda ev, lab=lab: lab.config(fg='black'))\n",
    "        row += 1\n",
    "    top.pack(expand=True, fill='both')\n",
    "    root.mainloop()\n",
    "\n",
    "def _clipboard_copy(inst):\n",
    "    def wrapper(event):\n",
    "        inst.clipboard_clear()\n",
    "        inst.clipboard_append(inst['text'])\n",
    "    return wrapper\n",
    "\n",
    "\n",
    "\n",
    "COLORS = ['snow', 'ghost white', 'white smoke', 'gainsboro', 'floral white', 'old lace',\n",
    "          'linen', 'antique white', 'papaya whip', 'blanched almond', 'bisque', 'peach puff',\n",
    "          'navajo white', 'lemon chiffon', 'mint cream', 'azure', 'alice blue', 'lavender',\n",
    "          'lavender blush', 'misty rose', 'dark slate gray', 'dim gray', 'slate gray',\n",
    "          'light slate gray', 'gray', 'light grey', 'midnight blue', 'navy', 'cornflower blue', 'dark slate blue',\n",
    "          'slate blue', 'medium slate blue', 'light slate blue', 'medium blue', 'royal blue',  'blue',\n",
    "          'dodger blue', 'deep sky blue', 'sky blue', 'light sky blue', 'steel blue', 'light steel blue',\n",
    "          'light blue', 'powder blue', 'pale turquoise', 'dark turquoise', 'medium turquoise', 'turquoise',\n",
    "          'cyan', 'light cyan', 'cadet blue', 'medium aquamarine', 'aquamarine', 'dark green', 'dark olive green',\n",
    "          'dark sea green', 'sea green', 'medium sea green', 'light sea green', 'pale green', 'spring green',\n",
    "          'lawn green', 'medium spring green', 'green yellow', 'lime green', 'yellow green',\n",
    "          'forest green', 'olive drab', 'dark khaki', 'khaki', 'pale goldenrod', 'light goldenrod yellow',\n",
    "          'light yellow', 'yellow', 'gold', 'light goldenrod', 'goldenrod', 'dark goldenrod', 'rosy brown',\n",
    "          'indian red', 'saddle brown', 'sandy brown',\n",
    "          'dark salmon', 'salmon', 'light salmon', 'orange', 'dark orange',\n",
    "          'coral', 'light coral', 'tomato', 'orange red', 'red', 'hot pink', 'deep pink', 'pink', 'light pink',\n",
    "          'pale violet red', 'maroon', 'medium violet red', 'violet red',\n",
    "          'medium orchid', 'dark orchid', 'dark violet', 'blue violet', 'purple', 'medium purple',\n",
    "          'thistle', 'snow2', 'snow3',\n",
    "          'snow4', 'seashell2', 'seashell3', 'seashell4', 'AntiqueWhite1', 'AntiqueWhite2',\n",
    "          'AntiqueWhite3', 'AntiqueWhite4', 'bisque2', 'bisque3', 'bisque4', 'PeachPuff2',\n",
    "          'PeachPuff3', 'PeachPuff4', 'NavajoWhite2', 'NavajoWhite3', 'NavajoWhite4',\n",
    "          'LemonChiffon2', 'LemonChiffon3', 'LemonChiffon4', 'cornsilk2', 'cornsilk3',\n",
    "          'cornsilk4', 'ivory2', 'ivory3', 'ivory4', 'honeydew2', 'honeydew3', 'honeydew4',\n",
    "          'LavenderBlush2', 'LavenderBlush3', 'LavenderBlush4', 'MistyRose2', 'MistyRose3',\n",
    "          'MistyRose4', 'azure2', 'azure3', 'azure4', 'SlateBlue1', 'SlateBlue2', 'SlateBlue3',\n",
    "          'SlateBlue4', 'RoyalBlue1', 'RoyalBlue2', 'RoyalBlue3', 'RoyalBlue4', 'blue2', 'blue4',\n",
    "          'DodgerBlue2', 'DodgerBlue3', 'DodgerBlue4', 'SteelBlue1', 'SteelBlue2',\n",
    "          'SteelBlue3', 'SteelBlue4', 'DeepSkyBlue2', 'DeepSkyBlue3', 'DeepSkyBlue4',\n",
    "          'SkyBlue1', 'SkyBlue2', 'SkyBlue3', 'SkyBlue4', 'LightSkyBlue1', 'LightSkyBlue2',\n",
    "          'LightSkyBlue3', 'LightSkyBlue4', 'SlateGray1', 'SlateGray2', 'SlateGray3',\n",
    "          'SlateGray4', 'LightSteelBlue1', 'LightSteelBlue2', 'LightSteelBlue3',\n",
    "          'LightSteelBlue4', 'LightBlue1', 'LightBlue2', 'LightBlue3', 'LightBlue4',\n",
    "          'LightCyan2', 'LightCyan3', 'LightCyan4', 'PaleTurquoise1', 'PaleTurquoise2',\n",
    "          'PaleTurquoise3', 'PaleTurquoise4', 'CadetBlue1', 'CadetBlue2', 'CadetBlue3',\n",
    "          'CadetBlue4', 'turquoise1', 'turquoise2', 'turquoise3', 'turquoise4', 'cyan2', 'cyan3',\n",
    "          'cyan4', 'DarkSlateGray1', 'DarkSlateGray2', 'DarkSlateGray3', 'DarkSlateGray4',\n",
    "          'aquamarine2', 'aquamarine4', 'DarkSeaGreen1', 'DarkSeaGreen2', 'DarkSeaGreen3',\n",
    "          'DarkSeaGreen4', 'SeaGreen1', 'SeaGreen2', 'SeaGreen3', 'PaleGreen1', 'PaleGreen2',\n",
    "          'PaleGreen3', 'PaleGreen4', 'SpringGreen2', 'SpringGreen3', 'SpringGreen4',\n",
    "          'green2', 'green3', 'green4', 'chartreuse2', 'chartreuse3', 'chartreuse4',\n",
    "          'OliveDrab1', 'OliveDrab2', 'OliveDrab4', 'DarkOliveGreen1', 'DarkOliveGreen2',\n",
    "          'DarkOliveGreen3', 'DarkOliveGreen4', 'khaki1', 'khaki2', 'khaki3', 'khaki4',\n",
    "          'LightGoldenrod1', 'LightGoldenrod2', 'LightGoldenrod3', 'LightGoldenrod4',\n",
    "          'LightYellow2', 'LightYellow3', 'LightYellow4', 'yellow2', 'yellow3', 'yellow4',\n",
    "          'gold2', 'gold3', 'gold4', 'goldenrod1', 'goldenrod2', 'goldenrod3', 'goldenrod4',\n",
    "          'DarkGoldenrod1', 'DarkGoldenrod2', 'DarkGoldenrod3', 'DarkGoldenrod4',\n",
    "          'RosyBrown1', 'RosyBrown2', 'RosyBrown3', 'RosyBrown4', 'IndianRed1', 'IndianRed2',\n",
    "          'IndianRed3', 'IndianRed4', 'sienna1', 'sienna2', 'sienna3', 'sienna4', 'burlywood1',\n",
    "          'burlywood2', 'burlywood3', 'burlywood4', 'wheat1', 'wheat2', 'wheat3', 'wheat4', 'tan1',\n",
    "          'tan2', 'tan4', 'chocolate1', 'chocolate2', 'chocolate3', 'firebrick1', 'firebrick2',\n",
    "          'firebrick3', 'firebrick4', 'brown1', 'brown2', 'brown3', 'brown4', 'salmon1', 'salmon2',\n",
    "          'salmon3', 'salmon4', 'LightSalmon2', 'LightSalmon3', 'LightSalmon4', 'orange2',\n",
    "          'orange3', 'orange4', 'DarkOrange1', 'DarkOrange2', 'DarkOrange3', 'DarkOrange4',\n",
    "          'coral1', 'coral2', 'coral3', 'coral4', 'tomato2', 'tomato3', 'tomato4', 'OrangeRed2',\n",
    "          'OrangeRed3', 'OrangeRed4', 'red2', 'red3', 'red4', 'DeepPink2', 'DeepPink3', 'DeepPink4',\n",
    "          'HotPink1', 'HotPink2', 'HotPink3', 'HotPink4', 'pink1', 'pink2', 'pink3', 'pink4',\n",
    "          'LightPink1', 'LightPink2', 'LightPink3', 'LightPink4', 'PaleVioletRed1',\n",
    "          'PaleVioletRed2', 'PaleVioletRed3', 'PaleVioletRed4', 'maroon1', 'maroon2',\n",
    "          'maroon3', 'maroon4', 'VioletRed1', 'VioletRed2', 'VioletRed3', 'VioletRed4',\n",
    "          'magenta2', 'magenta3', 'magenta4', 'orchid1', 'orchid2', 'orchid3', 'orchid4', 'plum1',\n",
    "          'plum2', 'plum3', 'plum4', 'MediumOrchid1', 'MediumOrchid2', 'MediumOrchid3',\n",
    "          'MediumOrchid4', 'DarkOrchid1', 'DarkOrchid2', 'DarkOrchid3', 'DarkOrchid4',\n",
    "          'purple1', 'purple2', 'purple3', 'purple4', 'MediumPurple1', 'MediumPurple2',\n",
    "          'MediumPurple3', 'MediumPurple4', 'thistle1', 'thistle2', 'thistle3', 'thistle4',\n",
    "          'gray1', 'gray2', 'gray3', 'gray4', 'gray5', 'gray6', 'gray7', 'gray8', 'gray9', 'gray10',\n",
    "          'gray11', 'gray12', 'gray13', 'gray14', 'gray15', 'gray16', 'gray17', 'gray18', 'gray19',\n",
    "          'gray20', 'gray21', 'gray22', 'gray23', 'gray24', 'gray25', 'gray26', 'gray27', 'gray28',\n",
    "          'gray29', 'gray30', 'gray31', 'gray32', 'gray33', 'gray34', 'gray35', 'gray36', 'gray37',\n",
    "          'gray38', 'gray39', 'gray40', 'gray42', 'gray43', 'gray44', 'gray45', 'gray46', 'gray47',\n",
    "          'gray48', 'gray49', 'gray50', 'gray51', 'gray52', 'gray53', 'gray54', 'gray55', 'gray56',\n",
    "          'gray57', 'gray58', 'gray59', 'gray60', 'gray61', 'gray62', 'gray63', 'gray64', 'gray65',\n",
    "          'gray66', 'gray67', 'gray68', 'gray69', 'gray70', 'gray71', 'gray72', 'gray73', 'gray74',\n",
    "          'gray75', 'gray76', 'gray77', 'gray78', 'gray79', 'gray80', 'gray81', 'gray82', 'gray83',\n",
    "          'gray84', 'gray85', 'gray86', 'gray87', 'gray88', 'gray89', 'gray90', 'gray91', 'gray92',\n",
    "          'gray93', 'gray94', 'gray95', 'gray97', 'gray98', 'gray99']\n",
    "\n",
    "if __name__ == '__main__':\n",
    "    showcolors(COLORS)"
   ]
  },
  {
   "cell_type": "markdown",
   "metadata": {},
   "source": [
    "## place"
   ]
  },
  {
   "cell_type": "code",
   "execution_count": null,
   "metadata": {},
   "outputs": [],
   "source": [
    "from tkinter import *\n",
    "import tkinter.messagebox\n",
    "\n",
    "def slider(value):\n",
    "    r = red_Scale.get()\n",
    "    g = green_Scale.get()\n",
    "    b = blue_Scale.get()\n",
    "\n",
    "    rgb = f'{r},{g},{b}'\n",
    "\n",
    "    code = \"#%02x%02x%02x\" % (r, g, b)\n",
    "    colorLabel.config(bg=code)\n",
    "\n",
    "    rgb_entry.delete(0, END)\n",
    "    rgb_entry.insert(0, rgb)\n",
    "\n",
    "\n",
    "\n",
    "def onClick():\n",
    "    tkinter.messagebox.showinfo(\"Copy To Clipboard\",\"Your rgb color code (\"+rgb_entry.get()+\") is copied.\")\n",
    "    clip = Tk()\n",
    "    clip.withdraw()\n",
    "    clip.clipboard_clear()\n",
    "    clip.clipboard_append(rgb_entry.get())\n",
    "    clip.destroy()\n",
    "\n",
    "\n",
    "root = Tk()\n",
    "\n",
    "       \n",
    "root.title(\"Color Picker\")\n",
    "root.geometry(\"360x380+100+100\")\n",
    "\n",
    "colorLabel = Label(root, bg=\"black\", width=50, height=10, bd=1, relief=None)\n",
    "colorLabel.pack(pady=5)\n",
    "\n",
    "frame = Frame(root, bd=1, relief=None)\n",
    "frame.pack(pady=5)\n",
    "\n",
    "red_label = Label(frame, text=\"Red\", fg=\"red\", font=(\"Times New Roman\", 12, \"bold\"))\n",
    "red_label.grid(row=0, column=0)\n",
    "\n",
    "red_Scale = Scale(frame, from_=0, to=255, length=210, fg=\"red\", orient=HORIZONTAL, command=slider)\n",
    "red_Scale.grid(row=0, column=1)\n",
    "\n",
    "green_label = Label(frame, text=\"Green\", fg=\"green\", font=(\"Times New Roman\", 12, \"bold\"))\n",
    "green_label.grid(row=1, column=0)\n",
    "\n",
    "green_Scale = Scale(frame, from_=0, to=255, length=210, fg=\"green\", orient=HORIZONTAL, command=slider)\n",
    "green_Scale.grid(row=1, column=1)\n",
    "\n",
    "blue_label = Label(frame, text=\"Blue\", fg=\"blue\", font=(\"Times New Roman\", 12, \"bold\"))\n",
    "blue_label.grid(row=2, column=0)\n",
    "\n",
    "blue_Scale = Scale(frame, from_=0, to=255, length=210, fg=\"blue\", orient=HORIZONTAL, command=slider)\n",
    "blue_Scale.grid(row=2, column=1)\n",
    "\n",
    "frame2 = Frame(root, bd=1, relief=None)\n",
    "frame2.pack(pady=5)\n",
    "\n",
    "rgb_label = Label(frame2, text=\"RGB CODE :\", font=(\"Times New Roman\", 12, \"bold\"))\n",
    "rgb_label.grid(row=2, column=0)\n",
    "\n",
    "rgb_entry = Entry(frame2, width=12, font=(\"Times New Roman\", 12))\n",
    "rgb_entry.grid(row=2, column=1, padx=5)\n",
    "rgb_entry.insert(END, '')\n",
    "\n",
    "copy = Button(frame2, text=\"COPY\", font=(\"Times New Roman\", 12, \"bold\"),command = onClick)\n",
    "copy.grid(row=3, columnspan=2, pady=7)\n",
    "\n",
    "\n",
    "root.mainloop()"
   ]
  },
  {
   "cell_type": "code",
   "execution_count": null,
   "metadata": {},
   "outputs": [],
   "source": [
    "import tkinter as tk\n",
    "\n",
    "root = tk.Tk()\n",
    "root.title('oxxo.studio')\n",
    "root.configure(background='#000')   # 設定背景色黑色\n",
    "root.mainloop()"
   ]
  },
  {
   "cell_type": "markdown",
   "metadata": {
    "jp-MarkdownHeadingCollapsed": true
   },
   "source": [
    "# <span style='color:DeepSkyBlue'>函式應用</span>"
   ]
  },
  {
   "cell_type": "code",
   "execution_count": null,
   "metadata": {},
   "outputs": [],
   "source": [
    "a = 0\n",
    "b = 1\n",
    "print(a)\n",
    "print(b)\n",
    "t = a + b\n",
    "print(t)\n",
    "a = b\n",
    "b = t\n",
    "t = a + b\n",
    "print(t)\n",
    "a = b\n",
    "b = t\n",
    "t = a + b\n",
    "print(t)"
   ]
  },
  {
   "cell_type": "code",
   "execution_count": null,
   "metadata": {},
   "outputs": [],
   "source": [
    "def 費氏係數_1(n):\n",
    "    result = []\n",
    "    a = 0\n",
    "    b = 1\n",
    "    result.append(a)\n",
    "    result.append(b)\n",
    "\n",
    "    while True:\n",
    "        t = a+b\n",
    "        if t < n:\n",
    "            result.append(t)\n",
    "        else :\n",
    "            break\n",
    "        a = b\n",
    "        b = t\n",
    "\n",
    "    return result\n",
    "費氏係數_1(3000)"
   ]
  },
  {
   "cell_type": "code",
   "execution_count": null,
   "metadata": {},
   "outputs": [],
   "source": [
    "def fib(n): \n",
    "\n",
    "    t, a = 0, 1\n",
    "    while t < n:\n",
    "        print(t, end=' ')\n",
    "        t, a = a, t+a\n",
    "\n",
    "    print()\n",
    "    \n",
    "fib(3000)"
   ]
  },
  {
   "cell_type": "markdown",
   "metadata": {
    "jp-MarkdownHeadingCollapsed": true
   },
   "source": [
    "## Default Argument Values 有內定值的參數"
   ]
  },
  {
   "cell_type": "code",
   "execution_count": null,
   "metadata": {},
   "outputs": [],
   "source": [
    "def ask_ok(prompt, retries=4, reminder='Please try again!'):\n",
    "    while True:\n",
    "        reply = input(prompt)\n",
    "        if reply in {'y', 'ye', 'yes'}:\n",
    "            return True\n",
    "        if reply in {'n', 'no', 'nop', 'nope'}:\n",
    "            return False\n",
    "        retries = retries - 1\n",
    "        if retries < 0:\n",
    "            raise ValueError('invalid user response')\n",
    "        print(reminder)"
   ]
  },
  {
   "cell_type": "code",
   "execution_count": null,
   "metadata": {},
   "outputs": [],
   "source": [
    "i = 5\n",
    "\n",
    "def f(arg=i):\n",
    "    print(arg)\n",
    "\n",
    "i = 6\n",
    "f()"
   ]
  },
  {
   "cell_type": "markdown",
   "metadata": {
    "jp-MarkdownHeadingCollapsed": true
   },
   "source": [
    "## Keyword Arguments 鍵值參數"
   ]
  },
  {
   "cell_type": "code",
   "execution_count": null,
   "metadata": {},
   "outputs": [],
   "source": [
    "def parrot(voltage, state='a stiff', action='voom', type='Norwegian Blue'):\n",
    "    print(\"-- This parrot wouldn't\", action, end=' ')\n",
    "    print(\"if you put\", voltage, \"volts through it.\")\n",
    "    print(\"-- Lovely plumage, the\", type)\n",
    "    print(\"-- It's\", state, \"!\")\n",
    "\n",
    "parrot(1000)                                          # 1 positional argument\n",
    "parrot(voltage=1000)                                  # 1 keyword argument\n",
    "parrot(voltage=1000000, action='VOOOOOM')             # 2 keyword arguments\n",
    "parrot(action='VOOOOOM', voltage=1000000)             # 2 keyword arguments\n",
    "parrot('a million', 'bereft of life', 'jump')         # 3 positional arguments\n",
    "parrot('a thousand', state='pushing up the daisies')  # 1 positional, 1 keyword\n",
    "\n",
    "#invaild\n",
    "parrot()                     # 第一項沒參數\n",
    "parrot(voltage=5.0, 'dead')  # 第一個有指定位置 第二個沒有指定位置 (前面有指定 全部都要指定!!!)\n",
    "parrot(110, voltage=220)     # 第一項參數 重複定義\n",
    "parrot(actor='John Cleese')  # 沒有這項參數"
   ]
  },
  {
   "cell_type": "code",
   "execution_count": null,
   "metadata": {},
   "outputs": [],
   "source": [
    "# 一個 * 代表不固定次數的一般參數( 沒有也可以 )\n",
    "# 兩個 * 代表不固定次數的鍵值參數( 沒有也可以 )\n",
    "# 一個 * 的參數一定要寫在 兩個 * 的參數前面\n",
    "\n",
    "\n",
    "def cheeseshop(kind, *arguments, **keywords):\n",
    "    print(\"-- Do you have any\", kind, \"?\")\n",
    "    print(\"-- I'm sorry, we're all out of\", kind)\n",
    "    for arg in arguments:\n",
    "        print(arg)\n",
    "    print(\"-\" * 40)\n",
    "    for kw in keywords:\n",
    "        print(kw, \":\", keywords[kw])\n",
    "\n",
    "cheeseshop(\"Limburger\", \"It's very runny, sir.\",\n",
    "           \"It's really very, VERY runny, sir.\",\n",
    "           shopkeeper=\"Michael Palin\",\n",
    "           client=\"John Cleese\",\n",
    "           sketch=\"Cheese Shop Sketch\")"
   ]
  },
  {
   "cell_type": "code",
   "execution_count": null,
   "metadata": {},
   "outputs": [],
   "source": [
    "def func(a, *b, **c):\n",
    "    "
   ]
  },
  {
   "cell_type": "markdown",
   "metadata": {
    "jp-MarkdownHeadingCollapsed": true
   },
   "source": [
    "## Special parameters 參數的特別區隔方式"
   ]
  },
  {
   "cell_type": "markdown",
   "metadata": {},
   "source": [
    "![jupyter](./sp.png)"
   ]
  },
  {
   "cell_type": "code",
   "execution_count": null,
   "metadata": {},
   "outputs": [],
   "source": [
    "def standard_arg(arg):\n",
    "    print(arg)\n",
    "\n",
    "def pos_only_arg(arg, /):\n",
    "    print(arg)\n",
    "\n",
    "def kwd_only_arg(*, arg):\n",
    "    print(arg)\n",
    "\n",
    "def combined_example(pos_only, /, standard, *, kwd_only):\n",
    "    print(pos_only, standard, kwd_only)"
   ]
  },
  {
   "cell_type": "code",
   "execution_count": null,
   "metadata": {},
   "outputs": [],
   "source": [
    "def foo(name, **kwds):\n",
    "    return 'name' in kwds"
   ]
  },
  {
   "cell_type": "code",
   "execution_count": null,
   "metadata": {},
   "outputs": [],
   "source": [
    "foo(1, **{'name': 2}) # error"
   ]
  },
  {
   "cell_type": "code",
   "execution_count": null,
   "metadata": {},
   "outputs": [],
   "source": [
    "def foo(name, /, **kwds):\n",
    "    return 'name' in kwds\n",
    "\n",
    "foo(1, **{'name': 2})"
   ]
  },
  {
   "cell_type": "markdown",
   "metadata": {
    "jp-MarkdownHeadingCollapsed": true
   },
   "source": [
    "## Lambda Expressions 匿名函式"
   ]
  },
  {
   "cell_type": "code",
   "execution_count": null,
   "metadata": {},
   "outputs": [],
   "source": [
    "def make_incrementor(n):\n",
    "    return lambda x: x + n  # def lambda(x): x + n\n",
    "\n",
    "f = make_incrementor(42)  # f(n)= 42 + n\n",
    "f(0)\n",
    "#42\n",
    "f(1)\n",
    "#43"
   ]
  },
  {
   "cell_type": "markdown",
   "metadata": {
    "jp-MarkdownHeadingCollapsed": true
   },
   "source": [
    "## Documentation Strings 函式的文件說明"
   ]
  },
  {
   "cell_type": "code",
   "execution_count": null,
   "metadata": {},
   "outputs": [],
   "source": [
    "def func(a,b):\n",
    "    \"\"\"\n",
    "        使用此函式時請注意:\n",
    "        a 參數 請輸入 字串\n",
    "        b 參數 請輸入 整數\n",
    "    \"\"\"\n",
    "    print(a + \"老師\")\n",
    "    print(b ** 2)\n",
    "\n",
    "    return None\n",
    "\n",
    "func(\"哈哈\",9)"
   ]
  },
  {
   "cell_type": "markdown",
   "metadata": {},
   "source": [
    "#  <span style='color:DeepSkyBlue'>datetime Module</span>"
   ]
  },
  {
   "cell_type": "code",
   "execution_count": null,
   "metadata": {},
   "outputs": [],
   "source": [
    "import datetime\n",
    "\n",
    "t1 = datetime.datetime(2024,1,15)\n",
    "t2 = datetime.datetime(1995,10,20)"
   ]
  },
  {
   "cell_type": "code",
   "execution_count": null,
   "metadata": {},
   "outputs": [],
   "source": [
    "t1-t2"
   ]
  },
  {
   "cell_type": "code",
   "execution_count": null,
   "metadata": {},
   "outputs": [],
   "source": [
    "datetime.datetime.today()"
   ]
  },
  {
   "cell_type": "code",
   "execution_count": null,
   "metadata": {},
   "outputs": [],
   "source": [
    "\"\"\"\n",
    "    datetime一定要會的7個功能\n",
    "\n",
    "datetime.today()\n",
    "datetime.weekday() 返回一個整數代表星期幾(星期一為 0 , 星期日為 6 )\n",
    "datetime.strptime(date_string.format) 把字串變成日期格式\n",
    "datetime.strftime(format) 把日期格式變成字串\n",
    "datetime.year\n",
    "datetime.month\n",
    "datetime.day\n",
    "\n",
    "\"\"\""
   ]
  },
  {
   "cell_type": "code",
   "execution_count": null,
   "metadata": {},
   "outputs": [],
   "source": [
    "student = [\n",
    "    ['邱子桓','男','1995-10-20',87,94,55],\n",
    "    ['林阿明','男','1995-01-01',55,64,75],\n",
    "    ['王小美','女','1997-07-20',80,61,35],\n",
    "    ['張大偉','男','1996-06-10',90,80,68]\n",
    "]"
   ]
  },
  {
   "cell_type": "code",
   "execution_count": null,
   "metadata": {},
   "outputs": [],
   "source": [
    "import datetime\n",
    "d = datetime.datetime.strptime(student[0][2],'%Y-%m-%d')\n",
    "s = d.strftime('%m/%d/%Y')"
   ]
  },
  {
   "cell_type": "code",
   "execution_count": null,
   "metadata": {},
   "outputs": [],
   "source": [
    "s"
   ]
  },
  {
   "cell_type": "code",
   "execution_count": null,
   "metadata": {},
   "outputs": [],
   "source": [
    "d.weekday()"
   ]
  },
  {
   "cell_type": "code",
   "execution_count": null,
   "metadata": {},
   "outputs": [],
   "source": [
    "def 計算年齡(d):\n",
    "    now = datetime.datetime.today()\n",
    "    age = now.year-d.year\n",
    "    if d.month >= now.month and d.day > now.day: age -= 1\n",
    "    return age\n",
    "\n",
    "for n in range(len(student)) :\n",
    "    d = datetime.datetime.strptime(student[n][2],'%Y-%m-%d')\n",
    "    age = 計算年齡(d)\n",
    "    student[n].append(age)\n",
    "student"
   ]
  },
  {
   "cell_type": "code",
   "execution_count": null,
   "metadata": {},
   "outputs": [],
   "source": [
    "def getpay(hours=40, rate=25, qty=0, qtyrate=0, salary=0):\n",
    "    overtime=0\n",
    "    if qty>0:\n",
    "        return qty* qtyrate\n",
    "    if salary>0:\n",
    "        pass\n",
    "    if hours>40:\n",
    "        overtime = (hours-40)*(1.5*rate)\n",
    "        return overtime + (40*rate)\n",
    "    else:\n",
    "        return hours*rate\n",
    "\n",
    "getpay(salary=50000)"
   ]
  },
  {
   "cell_type": "markdown",
   "metadata": {
    "jp-MarkdownHeadingCollapsed": true
   },
   "source": [
    "# Math Module"
   ]
  },
  {
   "cell_type": "code",
   "execution_count": null,
   "metadata": {},
   "outputs": [],
   "source": [
    "import itertools\n",
    "\n",
    "print( list(itertools.permutations([1,2,3,4],2)) )"
   ]
  },
  {
   "cell_type": "code",
   "execution_count": null,
   "metadata": {},
   "outputs": [],
   "source": [
    "print( list(itertools.combinations([1,2,3,4],2))  )"
   ]
  },
  {
   "cell_type": "code",
   "execution_count": null,
   "metadata": {},
   "outputs": [],
   "source": [
    "list001 = ['邱子桓','林阿明','王小美','張大偉']"
   ]
  },
  {
   "cell_type": "code",
   "execution_count": null,
   "metadata": {},
   "outputs": [],
   "source": [
    "list(itertools.permutations(list001,3))"
   ]
  },
  {
   "cell_type": "code",
   "execution_count": null,
   "metadata": {},
   "outputs": [],
   "source": [
    "list(itertools.combinations(list001,3))"
   ]
  },
  {
   "cell_type": "code",
   "execution_count": null,
   "metadata": {},
   "outputs": [],
   "source": [
    "f = open('test01.txt','r',encoding='utf-8')\n",
    "a = f.read()\n",
    "print(a)\n",
    "f.close()"
   ]
  },
  {
   "cell_type": "code",
   "execution_count": null,
   "metadata": {},
   "outputs": [],
   "source": [
    "f = open('test01.txt','r',encoding='utf-8')\n",
    "a = f.readline()\n",
    "print(a)\n",
    "f.close()"
   ]
  },
  {
   "cell_type": "code",
   "execution_count": null,
   "metadata": {},
   "outputs": [],
   "source": [
    "f = open('test01.txt','r',encoding='utf-8')\n",
    "a = f.readlines()\n",
    "print(a)\n",
    "f.close()"
   ]
  },
  {
   "cell_type": "code",
   "execution_count": null,
   "metadata": {},
   "outputs": [],
   "source": [
    "f = open('test01.txt','r',encoding='utf-8')   #中文資料注意編碼\n",
    "\n",
    "list_2D = []\n",
    "while True:\n",
    "    s = f.readline()                          #只讀了一列資料(小字串) 碰到\\n就停止\n",
    "    if s == '':                               #沒資料 就跳出迴圈\n",
    "        break\n",
    "    if s != '\\n':                             #跳過空行\n",
    "        a = s.split(',')                      #資料按照逗點切開\n",
    "        list_1D=[]\n",
    "        for item in a :\n",
    "            s1 = item.strip()                 #將字串的頭尾空白和\\n都去掉\n",
    "            if s1.isdecimal() :               #檢查字串是否為數字\n",
    "                s1 = eval(s1)                 #如果為純數字 把它轉成整數\n",
    "            list_1D.append(s1)                #資料放入小串列中\n",
    "        list_2D.append(list_1D)               #將小串列再放入大串列\n",
    "print(list_2D)\n",
    "f.close()"
   ]
  },
  {
   "cell_type": "code",
   "execution_count": null,
   "metadata": {},
   "outputs": [],
   "source": [
    "import datetime\n",
    "f = open('test01.txt','r',encoding='utf-8')   #中文資料注意編碼\n",
    "\n",
    "student = []\n",
    "while True:\n",
    "    s = f.readline()                          #只讀了一列資料(小字串) 碰到\\n就停止\n",
    "    if s == '':                               #沒資料 就跳出迴圈\n",
    "        break\n",
    "    if s != '\\n':                             #跳過空行\n",
    "        a = s.split(',')                      #資料按照逗點切開\n",
    "        list_1D=[]\n",
    "        for item in a :\n",
    "            s1 = item.strip()                 #將字串的頭尾空白和\\n都去掉\n",
    "            if s1.isdecimal() :               #檢查字串是否為數字\n",
    "                s1 = eval(s1)                 #如果為純數字 把它轉成整數\n",
    "            list_1D.append(s1)                #資料放入小串列中\n",
    "        student.append(list_1D)               #將小串列再放入大串列\n",
    "f.close()\n",
    "\n",
    "import statistics\n",
    "\n",
    "for n in range(len(student)):                 #加入平均分數\n",
    "    avg=statistics.mean((student[n][3],student[n][4],student[n][5])) \n",
    "    student[n].append(round(avg,2))\n",
    "\n",
    "def 計算年齡(d):                               #設定計算年齡函式\n",
    "    now = datetime.datetime.today()\n",
    "    age = now.year-d.year\n",
    "    if d.month >= now.month and d.day > now.day: age -= 1\n",
    "    return age\n",
    "\n",
    "for n in range(len(student)) :                 #加入年齡\n",
    "    d = datetime.datetime.strptime(student[n][2],'%Y-%m-%d')\n",
    "    age = 計算年齡(d)\n",
    "    student[n].append(age)\n",
    "    \n",
    "for n in range(len(student)) :                 # 把每個人個別串列中的元素先變成字串 再合併所有字串 並在最後加入 \\n\n",
    "    for m,item in enumerate(student[n]):\n",
    "        if not isinstance(item, str):\n",
    "            student[n][m] = str(item)\n",
    "    student[n] = ' ,'.join(student[n])\n",
    "    student[n] += '\\n'\n",
    "\n",
    "f1= open(\"test01-1.txt\", \"w\", encoding=\"utf-8\") #寫入檔案\n",
    "f1.writelines(student)\n",
    "f1.close()"
   ]
  },
  {
   "cell_type": "markdown",
   "metadata": {
    "jp-MarkdownHeadingCollapsed": true
   },
   "source": [
    "# itertools"
   ]
  },
  {
   "cell_type": "code",
   "execution_count": null,
   "metadata": {},
   "outputs": [],
   "source": [
    "list001 = ['邱子桓','林阿明','王小美','張大偉']\n",
    "for n in range(25):\n",
    "    i = n % 4\n",
    "    print(list001[i],end=' ')\n",
    "        "
   ]
  },
  {
   "cell_type": "markdown",
   "metadata": {},
   "source": [
    "# accumulate(p,fn)數值累積計算\n"
   ]
  },
  {
   "cell_type": "code",
   "execution_count": null,
   "metadata": {},
   "outputs": [],
   "source": [
    "import itertools\n",
    "a = [1,2,3,4,5,6,7,8,9]\n",
    "b = itertools.accumulate(a)\n",
    "c = itertools.accumulate(a, lambda x,y: x*y)  # 使用 lambda 匿名函式\n",
    "for i in b:\n",
    "    print(i, end=' ')   # 1 3 6 10 15 21 28 36 45\n",
    "print()\n",
    "for i in c:\n",
    "    print(i, end=' ')   # 1 2 6 24 120 720 5040 40320 362880"
   ]
  },
  {
   "cell_type": "code",
   "execution_count": null,
   "metadata": {},
   "outputs": [],
   "source": [
    "a= [1,2,3,4,5,6,7,8,9]\n",
    "b=[]\n",
    "i=0\n",
    "for n in range(len(a)):   \n",
    "    i +=a[n]\n",
    "    b.append(i)\n",
    "b"
   ]
  },
  {
   "cell_type": "code",
   "execution_count": null,
   "metadata": {},
   "outputs": [],
   "source": [
    "a= [1,2,3,4,5,6,7,8,9]\n",
    "c=[]\n",
    "i=a[0]\n",
    "for n in range(len(a)):\n",
    "    i *=a[n]\n",
    "    c.append(i)\n",
    "c"
   ]
  },
  {
   "cell_type": "code",
   "execution_count": null,
   "metadata": {},
   "outputs": [],
   "source": [
    "student = [\n",
    "    ['邱子桓','男','1995-10-20',87,94,55],\n",
    "    ['林阿明','男','1995-01-01',55,64,75],\n",
    "    ['王小美','女','1997-07-20',80,61,35],\n",
    "    ['張大偉','男','1995-06-10',90,80,68],\n",
    "    ['邱佳明','男','1995-05-20',78,49,99],\n",
    "    ['王狗蛋','男','1997-08-09',80,61,35],\n",
    "    ['林雪莉','女','1998-12-26',60,82,76]\n",
    "]\n",
    "\n",
    "student= list(zip(*student))\n",
    "\n",
    "姓氏集合 = set() ;姓氏串列 = []\n",
    "性別集合 = set() ;性別串列 = []\n",
    "年份集合 = set() ;年份串列 = []\n",
    "\n",
    "for n in range(len(student[0])):\n",
    "    姓氏集合.add(student[0][n][0])\n",
    "    姓氏串列.append(student[0][n][0])\n",
    "    性別集合.add(student[1][n][0])\n",
    "    性別串列.append(student[1][n][0])\n",
    "    年份集合.add(student[2][n][0:4])\n",
    "    年份串列.append(student[2][n][0:4])\n",
    "\n",
    "print(姓氏集合)\n",
    "print(姓氏串列)\n",
    "for item in 姓氏集合:\n",
    "    print( item, 姓氏串列.count(item),end=' ')\n",
    "\n",
    "print('\\n')\n",
    "print(性別集合)\n",
    "print(性別串列)\n",
    "for item in 性別集合:\n",
    "    print( item, 性別串列.count(item),end=' ')\n",
    "\n",
    "print('\\n')\n",
    "print(年份集合)\n",
    "print(年份串列)\n",
    "for item in 年份集合:\n",
    "    print( item, 年份串列.count(item),end=' ')"
   ]
  },
  {
   "cell_type": "code",
   "execution_count": null,
   "metadata": {},
   "outputs": [],
   "source": [
    "a = ['123','456','xxx','abcd','8877']\n",
    "\n",
    "for item in a :\n",
    "    try:\n",
    "        b=eval(item)\n",
    "        print(b)\n",
    "    except:\n",
    "        print('發生錯誤!!')"
   ]
  },
  {
   "cell_type": "code",
   "execution_count": null,
   "metadata": {},
   "outputs": [],
   "source": [
    "a = ['123','456','xxx','abcd','8877']\n",
    "\n",
    "for item in a :\n",
    "    try:\n",
    "        b=eval(item)\n",
    "    except:\n",
    "        print('發生錯誤!!')\n",
    "    \n",
    "    print(b)"
   ]
  },
  {
   "cell_type": "code",
   "execution_count": null,
   "metadata": {},
   "outputs": [],
   "source": [
    "a = ['123','456','xxx','abcd','8877']\n",
    "\n",
    "for item in a :\n",
    "    try:\n",
    "        b=eval(item)\n",
    "    except:\n",
    "        pass\n",
    "    else:\n",
    "        print(b)"
   ]
  },
  {
   "cell_type": "code",
   "execution_count": null,
   "metadata": {},
   "outputs": [],
   "source": [
    "a = ['123','456','xxx','abcd','8877']\n",
    "\n",
    "for item in a:\n",
    "    if item.isdecimal():\n",
    "        b=eval(item)\n",
    "        print(b)"
   ]
  },
  {
   "cell_type": "code",
   "execution_count": null,
   "metadata": {},
   "outputs": [],
   "source": [
    "a = ['123','456','xxx','abcd','8877']\n",
    "\n",
    "for item in a :\n",
    "    try:\n",
    "        b=eval(item)\n",
    "    except NameError as e:\n",
    "        print(e)\n",
    "    else:\n",
    "        print(b)"
   ]
  },
  {
   "cell_type": "code",
   "execution_count": null,
   "metadata": {},
   "outputs": [],
   "source": [
    "Student_dict = { '姓名': ('邱子桓', '林阿明', '王小美', '張大偉'),\n",
    "                 '性別': ('男', '男', '女', '男'),\n",
    "                 '生日': ('1995-10-20', '1995-01-01', '1995-07-20', '1995-06-10'),\n",
    "                 '國文': (87, 55, 80, 90),\n",
    "                 '數學': (94, 64, 61, 80),\n",
    "                 '英文': (55, 75, 35, 68),\n",
    "                 '平均': (78.67, 64.67, 58.67, 79.33)\n",
    "               }"
   ]
  },
  {
   "cell_type": "code",
   "execution_count": null,
   "metadata": {},
   "outputs": [],
   "source": [
    "姓名 = ['邱子桓', '林阿明', '王小美', '張大偉']\n",
    "姓名加編號 = [ (value, n) for n,value in enumerate(姓名)]\n",
    "姓名 = sorted(姓名加編號)\n",
    "排序原則 = [tuple[1] for tuple1 in 姓名]\n",
    "姓名 = [ tuple[0] for tuple1 in 姓名]"
   ]
  },
  {
   "cell_type": "code",
   "execution_count": null,
   "metadata": {},
   "outputs": [],
   "source": [
    "room = input()\n",
    "print(type(room))"
   ]
  },
  {
   "cell_type": "code",
   "execution_count": null,
   "metadata": {},
   "outputs": [],
   "source": [
    "rooms = {1: 'Foyer', 2: 'Conference Room'}\n",
    "room = input('Enter the room number: ')\n",
    "if not room in rooms:\n",
    "\tprint('Room does not exist.')\n",
    "else:\n",
    "\tprint(\"The room name is \" + rooms[room])\n"
   ]
  },
  {
   "cell_type": "code",
   "execution_count": null,
   "metadata": {},
   "outputs": [],
   "source": [
    "numList = [1, 2, 3, 4, 5]\n",
    "alphaList = [\"a\", \"b\", \"c\", \"d\", \"e\"]\n",
    "print(numList is alphaList)\n",
    "print(numList == alphaList)\n",
    "numList = alphaList\n",
    "print(numList is alphaList)\n",
    "print(numList == alphaList)\n"
   ]
  },
  {
   "cell_type": "code",
   "execution_count": null,
   "metadata": {},
   "outputs": [],
   "source": [
    "def cube(n):\n",
    "    \"\"\" Returns the cube of number n \"\"\"\n",
    "    return n*n*n\n",
    "print(cube.__doc__)"
   ]
  },
  {
   "cell_type": "code",
   "execution_count": null,
   "metadata": {},
   "outputs": [],
   "source": [
    "print(cube(doc))"
   ]
  },
  {
   "cell_type": "code",
   "execution_count": null,
   "metadata": {},
   "outputs": [],
   "source": [
    "print(cube(docstring))"
   ]
  },
  {
   "cell_type": "code",
   "execution_count": null,
   "metadata": {},
   "outputs": [],
   "source": [
    "type(cube.__doc__)"
   ]
  },
  {
   "cell_type": "code",
   "execution_count": null,
   "metadata": {},
   "outputs": [],
   "source": [
    "print(__doc__)"
   ]
  },
  {
   "cell_type": "code",
   "execution_count": null,
   "metadata": {},
   "outputs": [],
   "source": [
    " def calc_power(a, b):\n",
    "\treturn a**b\n",
    " base = eval(input(\"Enter the number for the base:\"))\n",
    " exponent = eval(input(\"Enter the number for the exponent:\"))\n",
    " result = str(calc_power(base, exponent))\n",
    " print(\"The result is \" + result)\n"
   ]
  },
  {
   "cell_type": "code",
   "execution_count": null,
   "metadata": {},
   "outputs": [],
   "source": [
    "age = input(\"Enter your age: \")\n",
    "year = input(\"Enter the four-digit year: \")\n",
    "born = eval(year) - eval(age)\n",
    "message = \"You were born in \" + str(born)\n",
    "print(message)\n",
    "type(born)"
   ]
  },
  {
   "cell_type": "code",
   "execution_count": null,
   "metadata": {},
   "outputs": [],
   "source": [
    "value1 = 24\n",
    "value2 = 7\n",
    "value3 = 17.9\n",
    "\n",
    "answer = (value1 % value2 *100) // 2.0 ** 3.0 - value2\n",
    "print(answer)\n",
    "\n"
   ]
  },
  {
   "cell_type": "code",
   "execution_count": null,
   "metadata": {},
   "outputs": [],
   "source": [
    "import sys\n",
    "try:\n",
    "\tfile_in = open(\"in.txt\", 'r')\n",
    "\tfile_out = open(\"out.txt\", 'w+')\n",
    "except IOError:\n",
    "\tprint('cannot open', file_name)\n",
    "else:\n",
    "\ti = 1\n",
    "\tfor line in file_in:\n",
    "\t\tprint(line.rstrip())\n",
    "\t\tfile_out.write(\"line \" + str(i) + \": \" + line)\n",
    "\t\ti = i + 1\n",
    "\tfile_in.close()\n",
    "\tfile_out.close()\n"
   ]
  },
  {
   "cell_type": "code",
   "execution_count": null,
   "metadata": {},
   "outputs": [],
   "source": [
    "def petStore(category, species, breed = \"none\"):\n",
    "    \"\"\"Display information about a pet.\"\"\"\n",
    "    print(f\"\\nYou have selected an animal from the {category} category.\")\n",
    "    if breed == \"none\":\n",
    "    \tprint(f\"The {category} you selected is a {species}\")\n",
    "    else:\n",
    "    \tprint(f\"The {category} you selected is a {species} {breed}\")\n",
    "    print(f\"\\nThe {category} would make a great pet!\")\n",
    "category = input(\"What animal category are you interested in?\")\n",
    "species = input(\"What species are they from (canine, feline, Scarlet Macaw, Blue and Gold Macaw?\")\n",
    "if category == \"dog\" or category ==\"cat\":\n",
    "    breed = input(\"What breed are you interested in?\")\n",
    "    petStore(category, species, breed)\n",
    "else:\n",
    "\tpetStore(category, species)\n",
    "petStore(breed=\"Maltese\",species=\"Canine\", category=\"dog\")\n",
    "petStore(\"bird\",species=\"Scarlet Macaw\")\n"
   ]
  },
  {
   "cell_type": "code",
   "execution_count": null,
   "metadata": {},
   "outputs": [],
   "source": [
    "import\tunittest\n",
    "class TestIsInstance( unittest.TestCase ):\n",
    "\tdef\ttest_isInstance(self):\n",
    "\t\tself.assertIsInstance(obj, cls, msg=None)\n",
    "if __name__ == '__main__':\n",
    "\tunittest.main()\n"
   ]
  },
  {
   "cell_type": "code",
   "execution_count": null,
   "metadata": {},
   "outputs": [],
   "source": [
    "import\tunittest\n",
    "class TestIsInstance( unittest.TestCase ):\n",
    "\tdef\tassert_isInstance(self):\n",
    "\t\tself.assertIsInstance(obj, cls, msg=None)\n",
    "if __name__ == '__main__':\n",
    "\tunittest.main()"
   ]
  },
  {
   "cell_type": "code",
   "execution_count": null,
   "metadata": {},
   "outputs": [],
   "source": [
    "import\tunittest\n",
    "class TestIsInstance( unittest.TestCase ):\n",
    "\tdef\teval_isInstance(self):\n",
    "\t\tself.assertIsInstance(obj, cls, msg=None)\n",
    "if __name__ == '__main__':\n",
    "\tunittest.main()"
   ]
  },
  {
   "cell_type": "code",
   "execution_count": null,
   "metadata": {},
   "outputs": [],
   "source": [
    "import\tunittest\n",
    "class TestIsInstance( unittest.TestCase ):\n",
    "\tdef\ttry_isInstance(self):\n",
    "\t\tself.assertIsInstance(obj, cls, msg=None)\n",
    "if __name__ == '__main__':\n",
    "\tunittest.main()"
   ]
  },
  {
   "cell_type": "code",
   "execution_count": 1,
   "metadata": {},
   "outputs": [],
   "source": [
    "import sys\n",
    "try:\n",
    "\tfile_in = open(\"in.txt\", 'r')\n",
    "\tfile_out = open(\"out.txt\", 'w+')\n",
    "except IOError:\n",
    "\tprint('cannot open', file_name)\n",
    "else:\n",
    "\ti = 1\n",
    "\tfor line in file_in:\n",
    "\t\tprint(line.rstrip())\n",
    "\t\tfile_out.write(\"line \" + str(i) + \": \" + line)\n",
    "\t\ti = i + 1\n",
    "\tfile_in.close()\n",
    "\tfile_out.close()\n"
   ]
  },
  {
   "cell_type": "code",
   "execution_count": null,
   "metadata": {},
   "outputs": [],
   "source": []
  }
 ],
 "metadata": {
  "colab": {
   "authorship_tag": "ABX9TyMrwK6i+ePYK6UpweY2HT6E",
   "mount_file_id": "1F_9q84zlPpHHQJatF5VjjDcW2ZcqbrBg",
   "provenance": []
  },
  "kernelspec": {
   "display_name": "Python 3 (ipykernel)",
   "language": "python",
   "name": "python3"
  },
  "language_info": {
   "codemirror_mode": {
    "name": "ipython",
    "version": 3
   },
   "file_extension": ".py",
   "mimetype": "text/x-python",
   "name": "python",
   "nbconvert_exporter": "python",
   "pygments_lexer": "ipython3",
   "version": "3.10.11"
  }
 },
 "nbformat": 4,
 "nbformat_minor": 4
}
